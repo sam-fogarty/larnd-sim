{
 "cells": [
  {
   "cell_type": "markdown",
   "id": "c297709d",
   "metadata": {},
   "source": [
    "Here is an example/test of specifying the `pixel_gains_file` parameter when running `simulate_pixels.py`. "
   ]
  },
  {
   "cell_type": "code",
   "execution_count": 1,
   "id": "791368b1",
   "metadata": {},
   "outputs": [],
   "source": [
    "import numpy as np\n",
    "import matplotlib.pyplot as plt\n",
    "import h5py\n",
    "from larndsim.fee import digitize\n",
    "from larndsim.consts import *\n",
    "from larndsim.consts.units import *"
   ]
  },
  {
   "cell_type": "code",
   "execution_count": 7,
   "id": "8dd96962",
   "metadata": {},
   "outputs": [],
   "source": [
    "# example of creating an npz file to use with the `pixel_gains_file` parameter\n",
    "import random\n",
    "#keys = np.arange(0, 78400, 1, dtype='int64') # possible pixel ids; mod-0\n",
    "keys = np.arange(0, 313600, 1, dtype='int64') # possible pixel ids; 2x2\n",
    "#output_filepath = 'module0-fake_gain.npz'\n",
    "output_filepath = '2x2-fake_gain.npz'\n",
    "gains = np.array([0.004, 0.010, 0.020, 0.030, 0.040]) * mV/e\n",
    "values = np.zeros_like(keys, dtype='float64')\n",
    "\n",
    "for i in range(len(keys)):\n",
    "    gain_choice = random.choice(gains)\n",
    "    values[i] = gain_choice\n",
    "\n",
    "default = np.array([0.004*mV/e]) # default value for file \n",
    "np.savez(output_filepath, keys=keys, values=values, default=default)"
   ]
  },
  {
   "cell_type": "code",
   "execution_count": 5,
   "id": "4cd7d36e",
   "metadata": {},
   "outputs": [],
   "source": [
    "# importing larndsim file with 0.1 MeV electrons \n",
    "filepath = 'larndsim_0.1MeV_electrons_5000events_no_noise_0.004_0.010_0.020_0.030_0.040_mVpere_choice_gain.h5'\n",
    "file_gain_file = h5py.File(filepath, 'r')\n",
    "\n",
    "# uniform gain of 0.004 mV/e\n",
    "filepath = 'larndsim_0.1MeV_electrons_5000events_no_noise_0.004_mVpere.h5'\n",
    "file_no_gain_file = h5py.File(filepath, 'r')\n",
    "\n",
    "packets_gain_file = file_gain_file['packets'][file_gain_file['packets']['packet_type'] == 0]\n",
    "packets_no_gain_file = file_no_gain_file['packets'][file_no_gain_file['packets']['packet_type'] == 0]"
   ]
  },
  {
   "cell_type": "markdown",
   "id": "c6f69cd2",
   "metadata": {},
   "source": [
    "Simulation Parameters:\n",
    "- 5000 0.1MeV electrons distributed uniformly in module-0 -> Bethe-Bloch eqn says these are ~0.15 mm is length on average\n",
    "- 1ke- discrimination threshold\n",
    "- Zero noise (RESET_NOISE_CHARGE, UNCORRELATED_NOISE_CHARGE, and DISCRIMINATOR_NOISE set to 0 to better see effects of differing gains)\n",
    "- Near infinite electron lifetime (tau = 10ms)\n",
    "- Recombination factor fixed at 0.5\n",
    "- Physics list = QGSP_BERT_LIV\n",
    "- Otherwise default larnd-sim parameters"
   ]
  },
  {
   "cell_type": "code",
   "execution_count": 15,
   "id": "37f93c7a",
   "metadata": {},
   "outputs": [
    {
     "name": "stdout",
     "output_type": "stream",
     "text": [
      "unique adc values (using gain file) =  [75 76 77 78 79 80 81 82 83 84 85 86 87 88 89 90 91 92 93 94 95 96 97]\n",
      "unique adc values (not using gain file) =  [75 76]\n",
      "drifted q =  2118.64406779661  e-\n",
      "Expected adc values =  [76.0, 79.0, 85.0, 90.0, 95.0]\n"
     ]
    },
    {
     "data": {
      "application/vnd.jupyter.widget-view+json": {
       "model_id": "e24781a4e3204f278ee1e4a5e8aec1d1",
       "version_major": 2,
       "version_minor": 0
      },
      "text/html": [
       "\n",
       "            <div style=\"display: inline-block;\">\n",
       "                <div class=\"jupyter-widgets widget-label\" style=\"text-align: center;\">\n",
       "                    Figure\n",
       "                </div>\n",
       "                <img src='data:image/png;base64,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' width=640.0/>\n",
       "            </div>\n",
       "        "
      ],
      "text/plain": [
       "Canvas(toolbar=Toolbar(toolitems=[('Home', 'Reset original view', 'home', 'home'), ('Back', 'Back to previous …"
      ]
     },
     "metadata": {},
     "output_type": "display_data"
    }
   ],
   "source": [
    "%matplotlib widget\n",
    "adcs_gain_file = packets_gain_file['dataword']\n",
    "unique_adcs_gain_file = np.unique(adcs_gain_file)\n",
    "print('unique adc values (using gain file) = ', unique_adcs_gain_file)\n",
    "\n",
    "adcs_no_gain_file = packets_no_gain_file['dataword']\n",
    "unique_adcs_no_gain_file = np.unique(adcs_no_gain_file)\n",
    "print('unique adc values (not using gain file) = ', unique_adcs_no_gain_file)\n",
    "\n",
    "E = 0.1 # MeV\n",
    "q = E*1e6 / 23.6 * 0.5\n",
    "print('drifted q = ', q, ' e-')\n",
    "\n",
    "gains = np.array([0.004, 0.010, 0.020, 0.030, 0.040])*mV/e # mV/e\n",
    "adcs = []\n",
    "for gain in gains:\n",
    "    adc = digitize(q, gain)\n",
    "    adcs.append(adc)\n",
    "    plt.vlines(adc, ymin=0, ymax = 2000)\n",
    "print('Expected adc values = ', adcs)\n",
    "\n",
    "# plot histograms of each case\n",
    "range_min = np.min(unique_adcs_gain_file)\n",
    "range_max = np.max(unique_adcs_gain_file)+1\n",
    "nbins = len(unique_adcs_gain_file)\n",
    "plt.hist(adcs_gain_file, range = (range_min, range_max), bins=nbins, color='blue', alpha=0.5, label = '0.004, 0.010, 0.020, 0.030, or 0.040 mV/e-')\n",
    "plt.hist(adcs_no_gain_file, range = (range_min, range_max), bins=nbins, color='red', alpha=0.5, label='0.004 mV/e- fixed gain')\n",
    "plt.legend()\n",
    "plt.xlabel('ADC counts')\n",
    "plt.show()"
   ]
  },
  {
   "cell_type": "markdown",
   "id": "fbdb4e10",
   "metadata": {},
   "source": [
    "In the plot above, we see that we see a single peak (red) when the gain is the same across all channels. When the gain is randomly chosen among five different values, we see five peaks. These peaks are at the expected positions (blue vertical lines). There are also non-zero bins at unexpected ADC counts, but this must be due to certain effects in the simulation. This appears to indicate that we are setting the channel dependent gains correctly in the code, and `larnd-sim` is producing an output consistent with the specified gains."
   ]
  },
  {
   "cell_type": "code",
   "execution_count": null,
   "id": "7abd1ea2",
   "metadata": {},
   "outputs": [],
   "source": []
  }
 ],
 "metadata": {
  "kernelspec": {
   "display_name": "Python 3 (ipykernel)",
   "language": "python",
   "name": "python3"
  },
  "language_info": {
   "codemirror_mode": {
    "name": "ipython",
    "version": 3
   },
   "file_extension": ".py",
   "mimetype": "text/x-python",
   "name": "python",
   "nbconvert_exporter": "python",
   "pygments_lexer": "ipython3",
   "version": "3.8.10"
  }
 },
 "nbformat": 4,
 "nbformat_minor": 5
}
